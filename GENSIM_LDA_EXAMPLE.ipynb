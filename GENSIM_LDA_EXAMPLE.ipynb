{
 "cells": [
  {
   "cell_type": "code",
   "execution_count": 23,
   "metadata": {},
   "outputs": [],
   "source": [
    "import pandas as pd"
   ]
  },
  {
   "cell_type": "code",
   "execution_count": 24,
   "metadata": {},
   "outputs": [],
   "source": [
    "df = pd.read_csv(r\"C:\\Users\\cesma\\Desktop\\OVS10_clean (1).csv\")"
   ]
  },
  {
   "cell_type": "code",
   "execution_count": 25,
   "metadata": {
    "collapsed": true
   },
   "outputs": [],
   "source": [
    "doc_complete = []\n",
    "for i in df[\"text\"]:\n",
    "    doc_complete.append(i)\n",
    "    "
   ]
  },
  {
   "cell_type": "code",
   "execution_count": 37,
   "metadata": {},
   "outputs": [
    {
     "name": "stderr",
     "output_type": "stream",
     "text": [
      "[nltk_data] Downloading package wordnet to\n",
      "[nltk_data]     C:\\Users\\cesma\\AppData\\Roaming\\nltk_data...\n",
      "[nltk_data]   Package wordnet is already up-to-date!\n"
     ]
    }
   ],
   "source": [
    "import nltk\n",
    "nltk.download('wordnet')\n",
    "from nltk.corpus import stopwords\n",
    "from nltk.stem.wordnet import WordNetLemmatizer\n",
    "import string\n",
    "stop = set(stopwords.words('italian'))"
   ]
  },
  {
   "cell_type": "code",
   "execution_count": 38,
   "metadata": {},
   "outputs": [],
   "source": [
    "stop.add(\"problema\")"
   ]
  },
  {
   "cell_type": "code",
   "execution_count": 39,
   "metadata": {},
   "outputs": [],
   "source": [
    "exclude = set(string.punctuation)\n",
    "lemma = WordNetLemmatizer()\n",
    "\n",
    "def clean(doc):\n",
    "    stop_free = ' '.join([i for i in doc.lower().split() if i not in stop])\n",
    "    punc_free = ''.join([ch for ch in stop_free if ch not in exclude])\n",
    "    normalized = ' '.join(lemma.lemmatize(word) for word in punc_free.split())\n",
    "    return normalized\n",
    "doc_clean = [clean(doc).split() for doc in doc_complete]"
   ]
  },
  {
   "cell_type": "code",
   "execution_count": 40,
   "metadata": {},
   "outputs": [
    {
     "data": {
      "text/plain": [
       "['segnalato',\n",
       " 'limpossibilità',\n",
       " 'utilizzare',\n",
       " 'tim',\n",
       " 'vision',\n",
       " 'risulta',\n",
       " 'abbonamento',\n",
       " 'numero',\n",
       " 'linea',\n",
       " 'fissa',\n",
       " 'associato',\n",
       " 'profilo',\n",
       " 'sbagliato',\n",
       " 'numero',\n",
       " 'indicato',\n",
       " 'numero',\n",
       " 'mese',\n",
       " 'chiamo',\n",
       " '187',\n",
       " 'possibile',\n",
       " 'grado',\n",
       " 'risolvere',\n",
       " 'disservizio']"
      ]
     },
     "execution_count": 40,
     "metadata": {},
     "output_type": "execute_result"
    }
   ],
   "source": [
    "doc_clean[0]"
   ]
  },
  {
   "cell_type": "code",
   "execution_count": 41,
   "metadata": {},
   "outputs": [],
   "source": [
    "import gensim\n",
    "from gensim import corpora\n",
    "dictionary = corpora.Dictionary(doc_clean)\n",
    "doc_term_matrix = [dictionary.doc2bow(doc) for doc in doc_clean]"
   ]
  },
  {
   "cell_type": "code",
   "execution_count": 42,
   "metadata": {
    "collapsed": true
   },
   "outputs": [],
   "source": [
    "Lda = gensim.models.ldamodel.LdaModel\n",
    "ldamodel = Lda(doc_term_matrix, num_topics = 5, id2word = dictionary, passes=50)"
   ]
  },
  {
   "cell_type": "code",
   "execution_count": 44,
   "metadata": {},
   "outputs": [
    {
     "name": "stdout",
     "output_type": "stream",
     "text": [
      "[(1, '0.012*\"tecnico\" + 0.011*\"operatore\" + 0.010*\"modem\" + 0.010*\"stato\" + 0.008*\"fibra\" + 0.008*\"risolto\" + 0.007*\"linea\" + 0.006*\"fatto\" + 0.006*\"tempo\" + 0.005*\"tim\" + 0.005*\"dopo\" + 0.005*\"guasto\"'), (4, '0.021*\"stato\" + 0.014*\"risolto\" + 0.012*\"linea\" + 0.012*\"guasto\" + 0.012*\"dopo\" + 0.011*\"senza\" + 0.011*\"servizio\" + 0.010*\"tecnico\" + 0.010*\"giorni\" + 0.006*\"modem\" + 0.006*\"mesi\" + 0.006*\"volta\"'), (3, '0.011*\"stato\" + 0.008*\"guasto\" + 0.007*\"giorni\" + 0.007*\"pagamento\" + 0.007*\"dopo\" + 0.007*\"tecnico\" + 0.006*\"risolto\" + 0.006*\"servizio\" + 0.006*\"solo\" + 0.006*\"linea\" + 0.005*\"tim\" + 0.005*\"ancora\"')]\n"
     ]
    }
   ],
   "source": [
    "print(ldamodel.print_topics(num_topics=3, num_words=12))"
   ]
  }
 ],
 "metadata": {
  "kernelspec": {
   "display_name": "Python 3",
   "language": "python",
   "name": "python3"
  },
  "language_info": {
   "codemirror_mode": {
    "name": "ipython",
    "version": 3
   },
   "file_extension": ".py",
   "mimetype": "text/x-python",
   "name": "python",
   "nbconvert_exporter": "python",
   "pygments_lexer": "ipython3",
   "version": "3.7.3"
  }
 },
 "nbformat": 4,
 "nbformat_minor": 2
}
