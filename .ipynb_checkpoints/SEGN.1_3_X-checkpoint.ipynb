{
 "cells": [
  {
   "cell_type": "code",
   "execution_count": 15,
   "metadata": {},
   "outputs": [],
   "source": [
    "from IPython.core.interactiveshell import InteractiveShell  \n",
    "InteractiveShell.ast_node_interactivity = \"all\""
   ]
  },
  {
   "cell_type": "code",
   "execution_count": 16,
   "metadata": {},
   "outputs": [],
   "source": [
    "import matplotlib.pyplot as plt\n",
    "%matplotlib notebook"
   ]
  },
  {
   "cell_type": "code",
   "execution_count": 17,
   "metadata": {},
   "outputs": [],
   "source": [
    "# importing the necessary packages\n",
    "import pandas as pd\n",
    "# import pandas_profiling\n",
    "df = pd.read_excel(r\"dataset_assurance.xlsx\", sheet_name=0)"
   ]
  },
  {
   "cell_type": "code",
   "execution_count": 18,
   "metadata": {},
   "outputs": [
    {
     "data": {
      "text/html": [
       "<div>\n",
       "<style scoped>\n",
       "    .dataframe tbody tr th:only-of-type {\n",
       "        vertical-align: middle;\n",
       "    }\n",
       "\n",
       "    .dataframe tbody tr th {\n",
       "        vertical-align: top;\n",
       "    }\n",
       "\n",
       "    .dataframe thead th {\n",
       "        text-align: right;\n",
       "    }\n",
       "</style>\n",
       "<table border=\"1\" class=\"dataframe\">\n",
       "  <thead>\n",
       "    <tr style=\"text-align: right;\">\n",
       "      <th></th>\n",
       "      <th>ID_INTERVISTATO</th>\n",
       "      <th>DATA_INT</th>\n",
       "      <th>AMBITO</th>\n",
       "      <th>AOL</th>\n",
       "      <th>BACINO_ACCOGLIENZA</th>\n",
       "      <th>CAUSALE_TT</th>\n",
       "      <th>COMUNE_IMPIANTO</th>\n",
       "      <th>DATA_APERTURA_TT</th>\n",
       "      <th>DATA_CHIUSURA_TT</th>\n",
       "      <th>DESC_GUASTO</th>\n",
       "      <th>...</th>\n",
       "      <th>OVS1_6BIS_3</th>\n",
       "      <th>OVS1_6BIS_4</th>\n",
       "      <th>OVS1_6BIS_5</th>\n",
       "      <th>OVS1_6BIS_6</th>\n",
       "      <th>OVS1_6BIS_7</th>\n",
       "      <th>OVS1_6BIS_8</th>\n",
       "      <th>OVS1_6BIS_9</th>\n",
       "      <th>OVS1_6BIS_10</th>\n",
       "      <th>OVS_1_6_10</th>\n",
       "      <th>OVS.7_10_E_SMS</th>\n",
       "    </tr>\n",
       "  </thead>\n",
       "  <tbody>\n",
       "    <tr>\n",
       "      <th>0</th>\n",
       "      <td>6285_9_000263704728020d84b32a1541409a32</td>\n",
       "      <td>8012018</td>\n",
       "      <td>Fisso</td>\n",
       "      <td>S1</td>\n",
       "      <td>IVR</td>\n",
       "      <td>Non Scorporato</td>\n",
       "      <td>FORIO</td>\n",
       "      <td>2018-01-07T00:00:00</td>\n",
       "      <td>2018-01-07T00:00:00</td>\n",
       "      <td>ADSL - HD - PROBLEMI FONIA VOIP</td>\n",
       "      <td>...</td>\n",
       "      <td>NaN</td>\n",
       "      <td>NaN</td>\n",
       "      <td>NaN</td>\n",
       "      <td>NaN</td>\n",
       "      <td>NaN</td>\n",
       "      <td>NaN</td>\n",
       "      <td>NaN</td>\n",
       "      <td>NaN</td>\n",
       "      <td>NaN</td>\n",
       "      <td>Perche il guasto e stato ripristinato in breve...</td>\n",
       "    </tr>\n",
       "  </tbody>\n",
       "</table>\n",
       "<p>1 rows × 63 columns</p>\n",
       "</div>"
      ],
      "text/plain": [
       "                           ID_INTERVISTATO  DATA_INT AMBITO AOL  \\\n",
       "0  6285_9_000263704728020d84b32a1541409a32   8012018  Fisso  S1   \n",
       "\n",
       "  BACINO_ACCOGLIENZA      CAUSALE_TT COMUNE_IMPIANTO     DATA_APERTURA_TT  \\\n",
       "0                IVR  Non Scorporato           FORIO  2018-01-07T00:00:00   \n",
       "\n",
       "      DATA_CHIUSURA_TT                      DESC_GUASTO  ... OVS1_6BIS_3  \\\n",
       "0  2018-01-07T00:00:00  ADSL - HD - PROBLEMI FONIA VOIP  ...         NaN   \n",
       "\n",
       "   OVS1_6BIS_4 OVS1_6BIS_5 OVS1_6BIS_6 OVS1_6BIS_7  OVS1_6BIS_8 OVS1_6BIS_9  \\\n",
       "0          NaN         NaN         NaN         NaN          NaN         NaN   \n",
       "\n",
       "  OVS1_6BIS_10 OVS_1_6_10                                     OVS.7_10_E_SMS  \n",
       "0          NaN        NaN  Perche il guasto e stato ripristinato in breve...  \n",
       "\n",
       "[1 rows x 63 columns]"
      ]
     },
     "execution_count": 18,
     "metadata": {},
     "output_type": "execute_result"
    }
   ],
   "source": [
    "df.head(1)"
   ]
  },
  {
   "cell_type": "code",
   "execution_count": 19,
   "metadata": {},
   "outputs": [
    {
     "data": {
      "text/plain": [
       "(10822, 2)"
      ]
     },
     "execution_count": 19,
     "metadata": {},
     "output_type": "execute_result"
    },
    {
     "data": {
      "text/html": [
       "<div>\n",
       "<style scoped>\n",
       "    .dataframe tbody tr th:only-of-type {\n",
       "        vertical-align: middle;\n",
       "    }\n",
       "\n",
       "    .dataframe tbody tr th {\n",
       "        vertical-align: top;\n",
       "    }\n",
       "\n",
       "    .dataframe thead th {\n",
       "        text-align: right;\n",
       "    }\n",
       "</style>\n",
       "<table border=\"1\" class=\"dataframe\">\n",
       "  <thead>\n",
       "    <tr style=\"text-align: right;\">\n",
       "      <th></th>\n",
       "      <th>ID_INTERVISTATO</th>\n",
       "      <th>OVS_1_6_10</th>\n",
       "    </tr>\n",
       "  </thead>\n",
       "  <tbody>\n",
       "    <tr>\n",
       "      <th>0</th>\n",
       "      <td>6285_9_000263704728020d84b32a1541409a32</td>\n",
       "      <td>NaN</td>\n",
       "    </tr>\n",
       "    <tr>\n",
       "      <th>1</th>\n",
       "      <td>6285_9_0007c2e6e4d81ac8a4750d2016e422aa</td>\n",
       "      <td>NaN</td>\n",
       "    </tr>\n",
       "    <tr>\n",
       "      <th>2</th>\n",
       "      <td>6285_9_000d02ec9700a742fd6551bb89486772</td>\n",
       "      <td>Ho segnalato l'impossibilità di utilizzare tim...</td>\n",
       "    </tr>\n",
       "  </tbody>\n",
       "</table>\n",
       "</div>"
      ],
      "text/plain": [
       "                           ID_INTERVISTATO  \\\n",
       "0  6285_9_000263704728020d84b32a1541409a32   \n",
       "1  6285_9_0007c2e6e4d81ac8a4750d2016e422aa   \n",
       "2  6285_9_000d02ec9700a742fd6551bb89486772   \n",
       "\n",
       "                                          OVS_1_6_10  \n",
       "0                                                NaN  \n",
       "1                                                NaN  \n",
       "2  Ho segnalato l'impossibilità di utilizzare tim...  "
      ]
     },
     "execution_count": 19,
     "metadata": {},
     "output_type": "execute_result"
    }
   ],
   "source": [
    "# OVS_1_6_10 : feedback assistenza se score <= 6\n",
    "df_new = df[[\"ID_INTERVISTATO\", \"OVS_1_6_10\"]]\n",
    "\n",
    "df_new.shape\n",
    "df_new.head(3)"
   ]
  },
  {
   "cell_type": "code",
   "execution_count": 21,
   "metadata": {},
   "outputs": [
    {
     "data": {
      "text/plain": [
       "(540, 2)"
      ]
     },
     "execution_count": 21,
     "metadata": {},
     "output_type": "execute_result"
    }
   ],
   "source": [
    "# print OVS_1_6_10 without NaN to csv\n",
    "df_new = df_new.dropna()\n",
    "df_new.shape"
   ]
  },
  {
   "cell_type": "code",
   "execution_count": 22,
   "metadata": {},
   "outputs": [],
   "source": [
    "df_new.to_csv(\"OVS_1_6_10.csv\")"
   ]
  }
 ],
 "metadata": {
  "kernelspec": {
   "display_name": "Python 3",
   "language": "python",
   "name": "python3"
  },
  "language_info": {
   "codemirror_mode": {
    "name": "ipython",
    "version": 3
   },
   "file_extension": ".py",
   "mimetype": "text/x-python",
   "name": "python",
   "nbconvert_exporter": "python",
   "pygments_lexer": "ipython3",
   "version": "3.7.3"
  }
 },
 "nbformat": 4,
 "nbformat_minor": 2
}
